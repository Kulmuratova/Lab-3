{
 "cells": [
  {
   "cell_type": "code",
   "execution_count": 2,
   "id": "33cfbdf8-ce72-45e5-bd75-a91b7ae935a8",
   "metadata": {},
   "outputs": [
    {
     "name": "stdin",
     "output_type": "stream",
     "text": [
      " my name is kbtu\n"
     ]
    },
    {
     "name": "stdout",
     "output_type": "stream",
     "text": [
      "MY NAME IS KBTU\n"
     ]
    }
   ],
   "source": [
    "class my_string():\n",
    "    def __init__self(self):\n",
    "        self.input_string = \"\"\n",
    "    def get_string(self):\n",
    "        self.input_string = input()\n",
    "    def print_string(self):\n",
    "        print(self.input_string.upper())\n",
    "result = my_string()\n",
    "result.get_string()\n",
    "result.print_string()"
   ]
  },
  {
   "cell_type": "code",
   "execution_count": 11,
   "id": "88b5fa47-dfaa-4133-af0e-1157d40e9962",
   "metadata": {},
   "outputs": [
    {
     "name": "stdout",
     "output_type": "stream",
     "text": [
      "16\n",
      "0\n"
     ]
    }
   ],
   "source": [
    "class shape():\n",
    "    def __init__(self):\n",
    "        pass\n",
    "    def area(self):\n",
    "        return 0;\n",
    "class square(shape):\n",
    "    def __init__(self, length):\n",
    "        super().__init__()\n",
    "        self.length = length\n",
    "    def area(self):\n",
    "        return self.length ** 2\n",
    "square_1 = square(4)\n",
    "print(square_1.area())\n",
    "shape_1 = shape()\n",
    "print(shape_1.area())"
   ]
  },
  {
   "cell_type": "code",
   "execution_count": 13,
   "id": "4255ae0d-e684-40b9-8f43-08834e36140d",
   "metadata": {},
   "outputs": [
    {
     "name": "stdout",
     "output_type": "stream",
     "text": [
      "20\n",
      "0\n"
     ]
    }
   ],
   "source": [
    "class shape():\n",
    "    def __init__(self):\n",
    "        pass\n",
    "    def area(self):\n",
    "        return 0;\n",
    "class rectangle(shape):\n",
    "    def __init__(self, length, width):\n",
    "        super().__init__()\n",
    "        self.length = length\n",
    "        self.width = width\n",
    "    def area(self):\n",
    "        return self.length * self.width\n",
    "rectangle_1 = rectangle(4, 5)\n",
    "print(rectangle_1.area())\n",
    "shape_1 = shape()\n",
    "print(shape_1.area())"
   ]
  },
  {
   "cell_type": "code",
   "execution_count": 17,
   "id": "12cee2df-8c2b-4513-b596-708b9bd6eeaf",
   "metadata": {},
   "outputs": [
    {
     "name": "stdout",
     "output_type": "stream",
     "text": [
      "1, 2\n",
      "3, 4\n",
      "1, 1\n",
      "distance: 3.605551275463989\n"
     ]
    }
   ],
   "source": [
    "import math\n",
    "class Point():\n",
    "    def __init__(self, x, y):\n",
    "        self.x = x\n",
    "        self.y = y\n",
    "    def show(self):\n",
    "        print(f\"{self.x}, {self.y}\")\n",
    "    def move(self, new_x, new_y):\n",
    "        self.x = new_x\n",
    "        self.y = new_y\n",
    "    def dist(self, other_object):\n",
    "        return math.sqrt((self.x - other_object.x) ** 2 + (self.y - other_object.y) ** 2)\n",
    "point1 = Point(1, 2)\n",
    "point2 = Point(3, 4)\n",
    "point1.show()\n",
    "point2.show()\n",
    "point1.move(1, 1)\n",
    "point1.show()\n",
    "distance = point1.dist(point2)\n",
    "print(f\"distance: {distance}\")"
   ]
  },
  {
   "cell_type": "code",
   "execution_count": 27,
   "id": "8376e5dd-22eb-456f-bb21-d2fb6b6f639f",
   "metadata": {},
   "outputs": [
    {
     "name": "stdout",
     "output_type": "stream",
     "text": [
      "50 was deposited, current balance 150\n",
      "200 was deposited, current balance 350\n",
      "100 was withdrawn, current balance 250\n",
      "Insufficient funds\n",
      "50 was withdrawn, current balance 200\n"
     ]
    }
   ],
   "source": [
    "class account():\n",
    "    def __init__(self, owner, balance = 0):\n",
    "        self.owner = owner\n",
    "        self.balance = balance\n",
    "    def deposit(self, amount):\n",
    "        if amount > 0:\n",
    "            self.balance += amount\n",
    "            print(f\"{amount} was deposited, current balance {self.balance}\")\n",
    "        else:\n",
    "            print(\"Deposit amount must be positive\")\n",
    "    def withdraw(self, amount):\n",
    "        if amount > 0:\n",
    "            if amount <= self.balance:\n",
    "                self.balance -= amount\n",
    "                print(f\"{amount} was withdrawn, current balance {self.balance}\")\n",
    "            else:\n",
    "                print(\"Insufficient funds\")\n",
    "        else: \n",
    "            print(\"Withdrawal amount must be positive.\")\n",
    "account_1 = account(\"John\", 100)\n",
    "account_1.deposit(50)  \n",
    "account_1.deposit(200)  \n",
    "account_1.withdraw(100)  \n",
    "account_1.withdraw(500)  \n",
    "account_1.withdraw(50)   "
   ]
  },
  {
   "cell_type": "code",
   "execution_count": 29,
   "id": "0b84d918-5dcb-45a3-8b29-9debdd0862a8",
   "metadata": {},
   "outputs": [
    {
     "name": "stdout",
     "output_type": "stream",
     "text": [
      "[2, 3, 5, 7, 11, 13]\n"
     ]
    }
   ],
   "source": [
    "is_prime = lambda x: x > 1 and all (x % i != 0 for i in range(2, int(x**0.5) + 1))\n",
    "numbers = [1, 2, 3, 4, 5, 6, 7, 8, 9, 10, 11, 12, 13, 14, 15]\n",
    "prime_numbers = list(filter(is_prime, numbers))\n",
    "print(prime_numbers)"
   ]
  },
  {
   "cell_type": "code",
   "execution_count": null,
   "id": "fb2427cd-090a-4f63-8d82-68f831b58134",
   "metadata": {},
   "outputs": [],
   "source": []
  }
 ],
 "metadata": {
  "kernelspec": {
   "display_name": "Python [conda env:base] *",
   "language": "python",
   "name": "conda-base-py"
  },
  "language_info": {
   "codemirror_mode": {
    "name": "ipython",
    "version": 3
   },
   "file_extension": ".py",
   "mimetype": "text/x-python",
   "name": "python",
   "nbconvert_exporter": "python",
   "pygments_lexer": "ipython3",
   "version": "3.12.7"
  }
 },
 "nbformat": 4,
 "nbformat_minor": 5
}
