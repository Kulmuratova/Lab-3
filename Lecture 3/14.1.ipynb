{
 "cells": [
  {
   "cell_type": "code",
   "execution_count": null,
   "id": "3094eab8-0feb-4b2d-b571-313ae79cbf61",
   "metadata": {},
   "outputs": [],
   "source": [
    "import random\n",
    "\n",
    "def guess_the_number():\n",
    "    print(\"Hello! What is your name?\")\n",
    "    player_name = input()\n",
    "    number_to_guess = random.randint(1, 20)\n",
    "    print(f\"Well, {player_name}, I am thinking of a number between 1 and 20.\")\n",
    "    guesses_taken = 0\n",
    "    \n",
    "    while True:\n",
    "        print(\"Take a guess.\")\n",
    "        player_guess = int(input())\n",
    "        guesses_taken += 1\n",
    "        if player_guess < number_to_guess:\n",
    "            print(\"Your guess is too low.\")\n",
    "        elif player_guess > number_to_guess:\n",
    "            print(\"Your guess is too high.\")\n",
    "        else:\n",
    "            print(f\"Good job, {player_name}! You guessed my number in {guesses_taken} guesses!\")\n",
    "            break\n",
    "\n",
    "def histogram(num):\n",
    "    for i in num:\n",
    "        print(\"*\" * i)\n"
   ]
  }
 ],
 "metadata": {
  "kernelspec": {
   "display_name": "Python [conda env:base] *",
   "language": "python",
   "name": "conda-base-py"
  },
  "language_info": {
   "codemirror_mode": {
    "name": "ipython",
    "version": 3
   },
   "file_extension": ".py",
   "mimetype": "text/x-python",
   "name": "python",
   "nbconvert_exporter": "python",
   "pygments_lexer": "ipython3",
   "version": "3.12.7"
  }
 },
 "nbformat": 4,
 "nbformat_minor": 5
}
