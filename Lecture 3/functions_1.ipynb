{
 "cells": [
  {
   "cell_type": "code",
   "execution_count": 12,
   "id": "0a4bcf32-61d7-42e5-ad40-0027a343213f",
   "metadata": {},
   "outputs": [
    {
     "name": "stdin",
     "output_type": "stream",
     "text": [
      " 2\n"
     ]
    },
    {
     "name": "stdout",
     "output_type": "stream",
     "text": [
      "56.6990462\n"
     ]
    }
   ],
   "source": [
    "def my_function(m):\n",
    "    M = 28.3495231 * m\n",
    "    return M\n",
    "m = float(input())\n",
    "print(my_function(m))"
   ]
  },
  {
   "cell_type": "code",
   "execution_count": 30,
   "id": "a2a288b5-e26f-4a67-a2bb-7101aae67990",
   "metadata": {},
   "outputs": [
    {
     "name": "stdin",
     "output_type": "stream",
     "text": [
      " 34\n"
     ]
    },
    {
     "name": "stdout",
     "output_type": "stream",
     "text": [
      "1.1111111111111112\n"
     ]
    }
   ],
   "source": [
    "def my_function(f):\n",
    "    c = (5 / 9) * (f - 32)\n",
    "    return c\n",
    "f = int(input())\n",
    "print(my_function(f))"
   ]
  },
  {
   "cell_type": "code",
   "execution_count": 32,
   "id": "a8508809-036d-4494-902f-c727e9dcc91b",
   "metadata": {},
   "outputs": [
    {
     "name": "stdout",
     "output_type": "stream",
     "text": [
      "(12.0, 23.0)\n"
     ]
    }
   ],
   "source": [
    "def solve(numheads, numlegs):\n",
    "    rabbit = (numlegs - 2 * numheads) / 2\n",
    "    chicken = numheads - rabbit\n",
    "    return(rabbit, chicken)\n",
    "print(solve(35, 94))"
   ]
  },
  {
   "cell_type": "code",
   "execution_count": 49,
   "id": "93ad3ec9-031d-4fc0-8d5c-e96ac86026fe",
   "metadata": {},
   "outputs": [
    {
     "name": "stdin",
     "output_type": "stream",
     "text": [
      " 1 2 3 4 5\n"
     ]
    },
    {
     "name": "stdout",
     "output_type": "stream",
     "text": [
      "[2, 3, 5]\n"
     ]
    }
   ],
   "source": [
    "mylist = []\n",
    "def filter_prime(num):\n",
    "    if num < 2:\n",
    "        return\n",
    "    for i in range(2, num):\n",
    "        if num % i == 0:\n",
    "            return\n",
    "    mylist.append(num)\n",
    "newlist = list(map(int, input().split())) \n",
    "for j in newlist:\n",
    "    filter_prime(j)\n",
    "print(mylist)"
   ]
  },
  {
   "cell_type": "code",
   "execution_count": 60,
   "id": "8f0f14a3-6172-453b-97a9-437340676941",
   "metadata": {},
   "outputs": [
    {
     "name": "stdin",
     "output_type": "stream",
     "text": [
      " we are ready\n"
     ]
    },
    {
     "name": "stdout",
     "output_type": "stream",
     "text": [
      "ready are we\n"
     ]
    }
   ],
   "source": [
    "def reversed(sentence):\n",
    "    words = sentence.split()\n",
    "    sentence1 = words[::-1]\n",
    "    newsentence = \"\"\n",
    "    for i in sentence1:\n",
    "        newsentence += i + \" \"\n",
    "    return newsentence.strip()\n",
    "sentence = input()\n",
    "print(reversed(sentence))"
   ]
  },
  {
   "cell_type": "code",
   "execution_count": 74,
   "id": "e316e021-aa8e-47fb-a425-d7d3b8855522",
   "metadata": {},
   "outputs": [
    {
     "name": "stdin",
     "output_type": "stream",
     "text": [
      " abc\n"
     ]
    },
    {
     "name": "stdout",
     "output_type": "stream",
     "text": [
      "['abc', 'acb', 'bac', 'bca', 'cab', 'cba']\n"
     ]
    }
   ],
   "source": [
    "from itertools import permutations\n",
    "def my_permutation(terms):\n",
    "    perms = permutations(terms)\n",
    "    mylist = []\n",
    "    for i in perms:\n",
    "        mylist.append(\"\".join(i))\n",
    "    return (mylist)\n",
    "terms = input()\n",
    "print(my_permutation(terms))"
   ]
  },
  {
   "cell_type": "code",
   "execution_count": 82,
   "id": "b9d9860c-341d-40ea-a36d-5d9835735638",
   "metadata": {},
   "outputs": [
    {
     "name": "stdout",
     "output_type": "stream",
     "text": [
      "True\n",
      "False\n",
      "False\n"
     ]
    }
   ],
   "source": [
    "mylist = []\n",
    "def has_33(num):\n",
    "    for i in range(len(num) - 1):\n",
    "        if num[i] == 3 and num[i + 1] == 3:\n",
    "            return True\n",
    "    return False\n",
    "print(has_33([1, 3, 3]))\n",
    "print(has_33([1, 3, 1, 3]))\n",
    "print(has_33([3, 1, 3]))"
   ]
  },
  {
   "cell_type": "code",
   "execution_count": 86,
   "id": "c9462426-e3ce-4a66-bef5-7ae060d8af4b",
   "metadata": {},
   "outputs": [
    {
     "name": "stdout",
     "output_type": "stream",
     "text": [
      "True\n",
      "True\n",
      "False\n"
     ]
    }
   ],
   "source": [
    "def spy_game(num):\n",
    "    code = [0, 0, 7]\n",
    "    for i in num:\n",
    "        if i == code[0]:\n",
    "            code.pop(0)\n",
    "        if not code:\n",
    "            return True\n",
    "    return False\n",
    "print(spy_game([1,2,4,0,0,7,5]))\n",
    "print(spy_game([1,0,2,4,0,5,7]))\n",
    "print(spy_game([1,7,2,0,4,5,0]))"
   ]
  },
  {
   "cell_type": "code",
   "execution_count": 96,
   "id": "01093141-a017-4cbd-87e2-05baf63b48b5",
   "metadata": {},
   "outputs": [
    {
     "name": "stdin",
     "output_type": "stream",
     "text": [
      " 3\n"
     ]
    },
    {
     "name": "stdout",
     "output_type": "stream",
     "text": [
      "113.03999999999999\n"
     ]
    }
   ],
   "source": [
    "def volume(radius):\n",
    "    result = 4/3 * 3.14 * (radius ** 3)\n",
    "    return result\n",
    "radius = int(input())\n",
    "print(volume(radius))"
   ]
  },
  {
   "cell_type": "code",
   "execution_count": 102,
   "id": "4487de67-2e85-42f8-9ff1-56b0626f3281",
   "metadata": {},
   "outputs": [
    {
     "name": "stdin",
     "output_type": "stream",
     "text": [
      " 1 2 3 3 3 4 5 65\n"
     ]
    },
    {
     "name": "stdout",
     "output_type": "stream",
     "text": [
      "[1, 2, 3, 4, 5, 65]\n"
     ]
    }
   ],
   "source": [
    "def new_list(mylist):\n",
    "    unique_list = []\n",
    "    for i in mylist:\n",
    "        if i not in unique_list:\n",
    "            unique_list.append(i)\n",
    "    return unique_list\n",
    "mylist = list(map(int, input().split()))\n",
    "print(new_list(mylist))"
   ]
  },
  {
   "cell_type": "code",
   "execution_count": 106,
   "id": "b993e138-0b0c-4095-a64d-94afdc7fe52b",
   "metadata": {},
   "outputs": [
    {
     "name": "stdin",
     "output_type": "stream",
     "text": [
      " madam\n"
     ]
    },
    {
     "name": "stdout",
     "output_type": "stream",
     "text": [
      "Yes, it is palindrome\n"
     ]
    }
   ],
   "source": [
    "def ispalindrome(word):\n",
    "    if word == word[::-1]:\n",
    "        return True\n",
    "    return False\n",
    "word = input()\n",
    "if ispalindrome(word):\n",
    "    print(\"Yes, it is palindrome\")\n",
    "else:\n",
    "    print(\"No, it isn't palindrome\")"
   ]
  },
  {
   "cell_type": "code",
   "execution_count": 122,
   "id": "664f2931-457f-4de0-88d4-88da5183492a",
   "metadata": {},
   "outputs": [
    {
     "name": "stdin",
     "output_type": "stream",
     "text": [
      " 4 9 7\n"
     ]
    },
    {
     "name": "stdout",
     "output_type": "stream",
     "text": [
      "****\n",
      "*********\n",
      "*******\n"
     ]
    }
   ],
   "source": [
    "def histogram(num):\n",
    "    for i in num:\n",
    "        print(\"*\" * i)\n",
    "num = list(map(int, input().split()))\n",
    "histogram(num)"
   ]
  },
  {
   "cell_type": "code",
   "execution_count": null,
   "id": "d2e1932b-a5dd-4a46-a06f-8186d419105c",
   "metadata": {},
   "outputs": [
    {
     "name": "stdout",
     "output_type": "stream",
     "text": [
      "Hello! What is your name?\n"
     ]
    },
    {
     "name": "stdin",
     "output_type": "stream",
     "text": [
      " ALBINA\n"
     ]
    },
    {
     "name": "stdout",
     "output_type": "stream",
     "text": [
      "Well, ALBINA, I am thinking of a number between 1 and 20.\n",
      "Take a guess.\n"
     ]
    },
    {
     "name": "stdin",
     "output_type": "stream",
     "text": [
      " 11\n"
     ]
    },
    {
     "name": "stdout",
     "output_type": "stream",
     "text": [
      "Your guess is too low.\n"
     ]
    },
    {
     "name": "stdin",
     "output_type": "stream",
     "text": [
      " 18\n"
     ]
    },
    {
     "name": "stdout",
     "output_type": "stream",
     "text": [
      "Your guess is too low.\n"
     ]
    },
    {
     "name": "stdin",
     "output_type": "stream",
     "text": [
      " 19\n"
     ]
    },
    {
     "name": "stdout",
     "output_type": "stream",
     "text": [
      "Your guess is too low.\n"
     ]
    },
    {
     "name": "stdin",
     "output_type": "stream",
     "text": [
      " 20\n"
     ]
    },
    {
     "name": "stdout",
     "output_type": "stream",
     "text": [
      "Good job, ALBINA! You guessed my number in 4 guesses!\n"
     ]
    }
   ],
   "source": [
    "import random\n",
    "def guessing_number():\n",
    "    print(\"Hello! What is your name?\")\n",
    "    players_name = input()\n",
    "    thenumber = random.randint(1, 20)\n",
    "    print(f\"Well, {players_name}, I am thinking of a number between 1 and 20.\")\n",
    "    print (\"Take a guess.\")\n",
    "    result = 0\n",
    "    while True:\n",
    "        players_guess = int(input())\n",
    "        result += 1\n",
    "        if players_guess > thenumber:\n",
    "            print(\"Your guess is too high.\")\n",
    "        elif players_guess < thenumber:\n",
    "            print(\"Your guess is too low.\")\n",
    "        else:\n",
    "            print(f\"Good job, {players_name}! You guessed my number in {result} guesses!\")\n",
    "guessing_number()\n"
   ]
  },
  {
   "cell_type": "code",
   "execution_count": null,
   "id": "f6480139-f195-4422-a6ed-ec9d68799749",
   "metadata": {},
   "outputs": [],
   "source": []
  }
 ],
 "metadata": {
  "kernelspec": {
   "display_name": "Python [conda env:base] *",
   "language": "python",
   "name": "conda-base-py"
  },
  "language_info": {
   "codemirror_mode": {
    "name": "ipython",
    "version": 3
   },
   "file_extension": ".py",
   "mimetype": "text/x-python",
   "name": "python",
   "nbconvert_exporter": "python",
   "pygments_lexer": "ipython3",
   "version": "3.12.7"
  }
 },
 "nbformat": 4,
 "nbformat_minor": 5
}
